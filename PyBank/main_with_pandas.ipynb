{
 "cells": [
  {
   "cell_type": "code",
   "execution_count": 36,
   "metadata": {},
   "outputs": [],
   "source": [
    "#import modules\n",
    "from pathlib import Path\n",
    "import pandas as pd"
   ]
  },
  {
   "cell_type": "code",
   "execution_count": 37,
   "metadata": {},
   "outputs": [
    {
     "data": {
      "text/html": [
       "<div>\n",
       "<style scoped>\n",
       "    .dataframe tbody tr th:only-of-type {\n",
       "        vertical-align: middle;\n",
       "    }\n",
       "\n",
       "    .dataframe tbody tr th {\n",
       "        vertical-align: top;\n",
       "    }\n",
       "\n",
       "    .dataframe thead th {\n",
       "        text-align: right;\n",
       "    }\n",
       "</style>\n",
       "<table border=\"1\" class=\"dataframe\">\n",
       "  <thead>\n",
       "    <tr style=\"text-align: right;\">\n",
       "      <th></th>\n",
       "      <th>Date</th>\n",
       "      <th>Profit/Losses</th>\n",
       "    </tr>\n",
       "  </thead>\n",
       "  <tbody>\n",
       "    <tr>\n",
       "      <th>0</th>\n",
       "      <td>Jan-10</td>\n",
       "      <td>1088983</td>\n",
       "    </tr>\n",
       "    <tr>\n",
       "      <th>1</th>\n",
       "      <td>Feb-10</td>\n",
       "      <td>-354534</td>\n",
       "    </tr>\n",
       "    <tr>\n",
       "      <th>2</th>\n",
       "      <td>Mar-10</td>\n",
       "      <td>276622</td>\n",
       "    </tr>\n",
       "    <tr>\n",
       "      <th>3</th>\n",
       "      <td>Apr-10</td>\n",
       "      <td>-728133</td>\n",
       "    </tr>\n",
       "    <tr>\n",
       "      <th>4</th>\n",
       "      <td>May-10</td>\n",
       "      <td>852993</td>\n",
       "    </tr>\n",
       "  </tbody>\n",
       "</table>\n",
       "</div>"
      ],
      "text/plain": [
       "     Date  Profit/Losses\n",
       "0  Jan-10        1088983\n",
       "1  Feb-10        -354534\n",
       "2  Mar-10         276622\n",
       "3  Apr-10        -728133\n",
       "4  May-10         852993"
      ]
     },
     "execution_count": 37,
     "metadata": {},
     "output_type": "execute_result"
    }
   ],
   "source": [
    "#read in csv\n",
    "budget_data = Path(\"C:/Users/danie/Documents/Module-3-Python/Module-3-Python/PyBank/Resources/budget_data.csv\")\n",
    "budget_data_df = pd.read_csv(budget_data)\n",
    "budget_data_df.head()"
   ]
  },
  {
   "cell_type": "code",
   "execution_count": 38,
   "metadata": {},
   "outputs": [
    {
     "data": {
      "text/html": [
       "<div>\n",
       "<style scoped>\n",
       "    .dataframe tbody tr th:only-of-type {\n",
       "        vertical-align: middle;\n",
       "    }\n",
       "\n",
       "    .dataframe tbody tr th {\n",
       "        vertical-align: top;\n",
       "    }\n",
       "\n",
       "    .dataframe thead th {\n",
       "        text-align: right;\n",
       "    }\n",
       "</style>\n",
       "<table border=\"1\" class=\"dataframe\">\n",
       "  <thead>\n",
       "    <tr style=\"text-align: right;\">\n",
       "      <th></th>\n",
       "      <th>Date</th>\n",
       "      <th>Profit/Losses</th>\n",
       "      <th>Changes</th>\n",
       "    </tr>\n",
       "  </thead>\n",
       "  <tbody>\n",
       "    <tr>\n",
       "      <th>0</th>\n",
       "      <td>Jan-10</td>\n",
       "      <td>1088983</td>\n",
       "      <td>NaN</td>\n",
       "    </tr>\n",
       "    <tr>\n",
       "      <th>1</th>\n",
       "      <td>Feb-10</td>\n",
       "      <td>-354534</td>\n",
       "      <td>-1443517.0</td>\n",
       "    </tr>\n",
       "    <tr>\n",
       "      <th>2</th>\n",
       "      <td>Mar-10</td>\n",
       "      <td>276622</td>\n",
       "      <td>631156.0</td>\n",
       "    </tr>\n",
       "    <tr>\n",
       "      <th>3</th>\n",
       "      <td>Apr-10</td>\n",
       "      <td>-728133</td>\n",
       "      <td>-1004755.0</td>\n",
       "    </tr>\n",
       "    <tr>\n",
       "      <th>4</th>\n",
       "      <td>May-10</td>\n",
       "      <td>852993</td>\n",
       "      <td>1581126.0</td>\n",
       "    </tr>\n",
       "  </tbody>\n",
       "</table>\n",
       "</div>"
      ],
      "text/plain": [
       "     Date  Profit/Losses    Changes\n",
       "0  Jan-10        1088983        NaN\n",
       "1  Feb-10        -354534 -1443517.0\n",
       "2  Mar-10         276622   631156.0\n",
       "3  Apr-10        -728133 -1004755.0\n",
       "4  May-10         852993  1581126.0"
      ]
     },
     "execution_count": 38,
     "metadata": {},
     "output_type": "execute_result"
    }
   ],
   "source": [
    "#\"Changes\" column is added to the dataframe by calculating differences using .diff\n",
    "Changes = budget_data_df[\"Profit/Losses\"].diff()\n",
    "budget_data_df[\"Changes\"] = Changes\n",
    "budget_data_df.head()"
   ]
  },
  {
   "cell_type": "code",
   "execution_count": 39,
   "metadata": {},
   "outputs": [],
   "source": [
    "#calculate values for total months, total profit and min/max change using .count, .sum, .max, and .min on csv dataframe\n",
    "total_months = budget_data_df[\"Profit/Losses\"].count()\n",
    "\n",
    "total_profit = budget_data_df[\"Profit/Losses\"].sum()\n",
    "\n",
    "#min and max months are calculated using the location values of the min/max profit/loss values\n",
    "max_inc = round(budget_data_df[\"Changes\"].max(),)\n",
    "max_month_inc_df = budget_data_df.loc[budget_data_df[\"Changes\"] == max_inc,:]\n",
    "\n",
    "max_dec = round(budget_data_df[\"Changes\"].min(),)\n",
    "max_month_dec_df = budget_data_df.loc[budget_data_df[\"Changes\"] == max_dec,:]\n",
    "\n",
    "#average change is calculated by using .average on the change column in the dataframe\n",
    "average_change=round(budget_data_df[\"Changes\"].mean(),2)\n"
   ]
  },
  {
   "cell_type": "code",
   "execution_count": 40,
   "metadata": {},
   "outputs": [
    {
     "name": "stdout",
     "output_type": "stream",
     "text": [
      "      Date  Profit/Losses    Changes\n",
      "79  Aug-16         951227  1862002.0\n",
      "      Date  Profit/Losses    Changes\n",
      "49  Feb-14        -946748 -1825558.0\n"
     ]
    }
   ],
   "source": [
    "#print min/max value rows to check\n",
    "print(max_month_inc_df)\n",
    "print(max_month_dec_df)"
   ]
  },
  {
   "cell_type": "code",
   "execution_count": 41,
   "metadata": {},
   "outputs": [
    {
     "name": "stdout",
     "output_type": "stream",
     "text": [
      "Financial Analysis\n",
      "----------------------------------------------------\n",
      "Total Months: 86\n",
      "Total: $22564198\n",
      "Average Change: $-8311.11\n",
      "Greatest Increase in Profits: Aug-16 ($1862002)\n",
      "Greatest Decrease in Profits: Feb-14 ($-1825558)\n",
      "----------------------------------------------------\n"
     ]
    }
   ],
   "source": [
    "#print results to terminal\n",
    "print(\"Financial Analysis\")\n",
    "print(\"----------------------------------------------------\")\n",
    "print(f'Total Months: {total_months}')\n",
    "print(f'Total: ${total_profit}')\n",
    "print(f'Average Change: ${average_change}')\n",
    "for index, row in max_month_inc_df.iterrows():\n",
    "    print(f'Greatest Increase in Profits: {row[\"Date\"]} (${round(row[\"Changes\"],)})')\n",
    "for index, row in max_month_dec_df.iterrows():\n",
    "    print(f'Greatest Decrease in Profits: {row[\"Date\"]} (${round(row[\"Changes\"],)})')\n",
    "print(\"----------------------------------------------------\")"
   ]
  },
  {
   "cell_type": "code",
   "execution_count": 42,
   "metadata": {},
   "outputs": [],
   "source": [
    "##export results to textfile in \"analysis\" folder\n",
    "#define location for text file\n",
    "text_analysis = Path(\"C:/Users/danie/Documents/Module-3-Python/Module-3-Python/PyBank/Analysis/pybank_analysis_with_pandas.txt\")\n",
    "\n",
    "#if there is no text file at the location, one is created. If there is already a text file, it is re-written\n",
    "with open (text_analysis, \"w\") as file:\n",
    "    file.write(\"Financial Analysis\\n\")\n",
    "    file.write(\"----------------------------------------------------\\n\")\n",
    "    file.write(f'Total Months: {total_months}\\n')\n",
    "    file.write(f'Total: ${total_profit}\\n')\n",
    "    file.write(f'Average Change: ${average_change}\\n')\n",
    "    for index, row in max_month_inc_df.iterrows():\n",
    "        file.write(f'Greatest Increase in Profits: {row[\"Date\"]} (${round(row[\"Changes\"],)})\\n')\n",
    "    for index, row in max_month_dec_df.iterrows():\n",
    "        file.write(f'Greatest Increase in Profits: {row[\"Date\"]} (${round(row[\"Changes\"],)})\\n')\n",
    "    file.write(\"----------------------------------------------------\\n\")\n"
   ]
  }
 ],
 "metadata": {
  "kernelspec": {
   "display_name": "dev",
   "language": "python",
   "name": "python3"
  },
  "language_info": {
   "codemirror_mode": {
    "name": "ipython",
    "version": 3
   },
   "file_extension": ".py",
   "mimetype": "text/x-python",
   "name": "python",
   "nbconvert_exporter": "python",
   "pygments_lexer": "ipython3",
   "version": "3.10.13"
  }
 },
 "nbformat": 4,
 "nbformat_minor": 2
}
